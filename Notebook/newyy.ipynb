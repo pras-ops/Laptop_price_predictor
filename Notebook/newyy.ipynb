{
 "cells": [
  {
   "cell_type": "code",
   "execution_count": 1,
   "metadata": {},
   "outputs": [],
   "source": [
    "from sklearn.base import BaseEstimator, TransformerMixin\n"
   ]
  },
  {
   "cell_type": "code",
   "execution_count": 2,
   "metadata": {},
   "outputs": [],
   "source": [
    "class CustomTransformer(BaseEstimator, TransformerMixin):\n",
    "    def __init__(self, parameter1=None, parameter2=None):\n",
    "        # Initialize any hyperparameters or settings for your transformer\n",
    "        self.parameter1 = parameter1\n",
    "        self.parameter2 = parameter2\n",
    "\n",
    "    def fit(self, X, y=None):\n",
    "        # Optional: Perform any necessary setup or calculations based on the input data X and y\n",
    "        return self\n",
    "\n",
    "    def transform(self, X):\n",
    "        # Implement the transformation logic here\n",
    "        # You can modify X and return the transformed version of X\n",
    "        # Make sure not to modify X in place to follow scikit-learn conventions\n",
    "        transformed_X = X.copy()  # Example: Create a copy to avoid modifying X in place\n",
    "        # Your transformation logic goes here\n",
    "        return transformed_X\n"
   ]
  },
  {
   "cell_type": "code",
   "execution_count": 4,
   "metadata": {},
   "outputs": [],
   "source": [
    "from sklearn.pipeline import Pipeline\n",
    "from sklearn.datasets import load_iris\n",
    "from sklearn.preprocessing import StandardScaler\n",
    "\n",
    "# Load a sample dataset\n",
    "iris = load_iris()\n",
    "X, y = iris.data, iris.target\n",
    "\n",
    "# Create an instance of your custom transformer with specific parameter values\n",
    "custom_transformer = CustomTransformer(parameter1=42, parameter2=0.1)\n",
    "\n",
    "# Create a scikit-learn pipeline using your custom transformer and other steps if needed\n",
    "pipeline = Pipeline([\n",
    "    ('custom_transform', custom_transformer),\n",
    "    ('scaler', StandardScaler()),  # Adding StandardScaler as an example\n",
    "    # Add other steps to the pipeline if needed\n",
    "    # For example: ('classifier', SomeClassifier())\n",
    "])\n",
    "\n",
    "# Fit and transform the data using the pipeline\n",
    "transformed_data = pipeline.fit_transform(X)\n"
   ]
  },
  {
   "cell_type": "code",
   "execution_count": null,
   "metadata": {},
   "outputs": [],
   "source": []
  }
 ],
 "metadata": {
  "kernelspec": {
   "display_name": "LPP",
   "language": "python",
   "name": "python3"
  },
  "language_info": {
   "codemirror_mode": {
    "name": "ipython",
    "version": 3
   },
   "file_extension": ".py",
   "mimetype": "text/x-python",
   "name": "python",
   "nbconvert_exporter": "python",
   "pygments_lexer": "ipython3",
   "version": "3.8.17"
  },
  "orig_nbformat": 4
 },
 "nbformat": 4,
 "nbformat_minor": 2
}
